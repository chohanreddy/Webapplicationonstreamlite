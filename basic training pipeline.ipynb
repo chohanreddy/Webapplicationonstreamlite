{
 "cells": [
  {
   "cell_type": "markdown",
   "metadata": {},
   "source": [
    "# Importing Libraries"
   ]
  },
  {
   "cell_type": "code",
   "execution_count": 1,
   "metadata": {
    "_cell_guid": "b1076dfc-b9ad-4769-8c92-a6c4dae69d19",
    "_uuid": "8f2839f25d086af736a60e9eeb907d3b93b6e0e5"
   },
   "outputs": [],
   "source": [
    "import numpy as np # linear algebra\n",
    "import pandas as pd # data processing, CSV file I/O (e.g. pd.read_csv)\n",
    "import matplotlib.pyplot as plt\n",
    "import seaborn as sns\n",
    "import sys\n",
    "sys.path.append(\"..\")\n",
    "\n",
    "# CREATE THE DATA_DIR PATH\n",
    "from pathlib import Path\n",
    "DATA_DIR = Path('../data/')\n",
    "MODELS_DIR = Path('../models')"
   ]
  },
  {
   "cell_type": "markdown",
   "metadata": {},
   "source": [
    "# Load data"
   ]
  },
  {
   "cell_type": "code",
   "execution_count": 2,
   "metadata": {},
   "outputs": [
    {
     "data": {
      "text/html": [
       "<style type='text/css'>\n",
       ".datatable table.frame { margin-bottom: 0; }\n",
       ".datatable table.frame thead { border-bottom: none; }\n",
       ".datatable table.frame tr.coltypes td {  color: #FFFFFF;  line-height: 6px;  padding: 0 0.5em;}\n",
       ".datatable .bool    { background: #DDDD99; }\n",
       ".datatable .object  { background: #565656; }\n",
       ".datatable .int     { background: #5D9E5D; }\n",
       ".datatable .float   { background: #4040CC; }\n",
       ".datatable .str     { background: #CC4040; }\n",
       ".datatable .row_index {  background: var(--jp-border-color3);  border-right: 1px solid var(--jp-border-color0);  color: var(--jp-ui-font-color3);  font-size: 9px;}\n",
       ".datatable .frame tr.coltypes .row_index {  background: var(--jp-border-color0);}\n",
       ".datatable th:nth-child(2) { padding-left: 12px; }\n",
       ".datatable .hellipsis {  color: var(--jp-cell-editor-border-color);}\n",
       ".datatable .vellipsis {  background: var(--jp-layout-color0);  color: var(--jp-cell-editor-border-color);}\n",
       ".datatable .na {  color: var(--jp-cell-editor-border-color);  font-size: 80%;}\n",
       ".datatable .footer { font-size: 9px; }\n",
       ".datatable .frame_dimensions {  background: var(--jp-border-color3);  border-top: 1px solid var(--jp-border-color0);  color: var(--jp-ui-font-color3);  display: inline-block;  opacity: 0.6;  padding: 1px 10px 1px 5px;}\n",
       "</style>\n"
      ],
      "text/plain": [
       "<IPython.core.display.HTML object>"
      ]
     },
     "metadata": {},
     "output_type": "display_data"
    }
   ],
   "source": [
    "from modules.pipeline import load_data"
   ]
  },
  {
   "cell_type": "code",
   "execution_count": 3,
   "metadata": {},
   "outputs": [
    {
     "name": "stdout",
     "output_type": "stream",
     "text": [
      "Requirement already satisfied: datatable in c:\\users\\vivie\\.conda\\envs\\actionlearning\\lib\\site-packages (0.11.1)\n",
      "Note: you may need to restart the kernel to use updated packages.\n"
     ]
    }
   ],
   "source": [
    "pip install datatable"
   ]
  },
  {
   "cell_type": "code",
   "execution_count": 4,
   "metadata": {},
   "outputs": [],
   "source": [
    "data = load_data(DATA_DIR, 'first_version_train.csv')"
   ]
  },
  {
   "cell_type": "markdown",
   "metadata": {},
   "source": [
    "# Transforming data for the model\n"
   ]
  },
  {
   "cell_type": "code",
   "execution_count": 5,
   "metadata": {},
   "outputs": [
    {
     "data": {
      "text/html": [
       "<div>\n",
       "<style scoped>\n",
       "    .dataframe tbody tr th:only-of-type {\n",
       "        vertical-align: middle;\n",
       "    }\n",
       "\n",
       "    .dataframe tbody tr th {\n",
       "        vertical-align: top;\n",
       "    }\n",
       "\n",
       "    .dataframe thead th {\n",
       "        text-align: right;\n",
       "    }\n",
       "</style>\n",
       "<table border=\"1\" class=\"dataframe\">\n",
       "  <thead>\n",
       "    <tr style=\"text-align: right;\">\n",
       "      <th></th>\n",
       "      <th>date</th>\n",
       "      <th>feature_93</th>\n",
       "      <th>feature_118</th>\n",
       "      <th>feature_117</th>\n",
       "      <th>feature_51</th>\n",
       "      <th>feature_16</th>\n",
       "      <th>feature_11</th>\n",
       "      <th>feature_52</th>\n",
       "      <th>feature_10</th>\n",
       "      <th>feature_41</th>\n",
       "      <th>...</th>\n",
       "      <th>feature_128</th>\n",
       "      <th>feature_53</th>\n",
       "      <th>feature_120</th>\n",
       "      <th>feature_9</th>\n",
       "      <th>feature_124</th>\n",
       "      <th>feature_1</th>\n",
       "      <th>feature_126</th>\n",
       "      <th>feature_42</th>\n",
       "      <th>feature_69</th>\n",
       "      <th>weight</th>\n",
       "    </tr>\n",
       "  </thead>\n",
       "  <tbody>\n",
       "    <tr>\n",
       "      <th>count</th>\n",
       "      <td>1.993372e+06</td>\n",
       "      <td>1.993372e+06</td>\n",
       "      <td>1.993372e+06</td>\n",
       "      <td>1.993372e+06</td>\n",
       "      <td>1.993372e+06</td>\n",
       "      <td>1.993372e+06</td>\n",
       "      <td>1.993372e+06</td>\n",
       "      <td>1.993372e+06</td>\n",
       "      <td>1.993372e+06</td>\n",
       "      <td>1.993372e+06</td>\n",
       "      <td>...</td>\n",
       "      <td>1.993372e+06</td>\n",
       "      <td>1.993372e+06</td>\n",
       "      <td>1.993372e+06</td>\n",
       "      <td>1.993372e+06</td>\n",
       "      <td>1.993372e+06</td>\n",
       "      <td>1.993372e+06</td>\n",
       "      <td>1.993372e+06</td>\n",
       "      <td>1.993372e+06</td>\n",
       "      <td>1.993372e+06</td>\n",
       "      <td>1.993372e+06</td>\n",
       "    </tr>\n",
       "    <tr>\n",
       "      <th>mean</th>\n",
       "      <td>2.473574e+02</td>\n",
       "      <td>3.246773e-01</td>\n",
       "      <td>3.849311e-01</td>\n",
       "      <td>3.022950e-01</td>\n",
       "      <td>4.928623e-01</td>\n",
       "      <td>1.374475e-01</td>\n",
       "      <td>9.732797e-02</td>\n",
       "      <td>4.894156e-03</td>\n",
       "      <td>1.723723e-01</td>\n",
       "      <td>3.897169e-01</td>\n",
       "      <td>...</td>\n",
       "      <td>2.465135e-01</td>\n",
       "      <td>3.109241e-01</td>\n",
       "      <td>2.242823e-01</td>\n",
       "      <td>2.699504e-01</td>\n",
       "      <td>2.339804e-01</td>\n",
       "      <td>4.166007e-01</td>\n",
       "      <td>2.136651e-01</td>\n",
       "      <td>4.397250e-01</td>\n",
       "      <td>4.100866e-01</td>\n",
       "      <td>3.090708e+00</td>\n",
       "    </tr>\n",
       "    <tr>\n",
       "      <th>std</th>\n",
       "      <td>1.528486e+02</td>\n",
       "      <td>2.152026e+00</td>\n",
       "      <td>2.366299e+00</td>\n",
       "      <td>2.433219e+00</td>\n",
       "      <td>2.817234e+00</td>\n",
       "      <td>2.137285e+00</td>\n",
       "      <td>1.548966e+00</td>\n",
       "      <td>1.875148e+00</td>\n",
       "      <td>1.646480e+00</td>\n",
       "      <td>1.979227e+00</td>\n",
       "      <td>...</td>\n",
       "      <td>2.267801e+00</td>\n",
       "      <td>2.138367e+00</td>\n",
       "      <td>1.810286e+00</td>\n",
       "      <td>2.328695e+00</td>\n",
       "      <td>1.670982e+00</td>\n",
       "      <td>2.532780e+00</td>\n",
       "      <td>2.481993e+00</td>\n",
       "      <td>2.416368e+00</td>\n",
       "      <td>2.264925e+00</td>\n",
       "      <td>7.721570e+00</td>\n",
       "    </tr>\n",
       "    <tr>\n",
       "      <th>min</th>\n",
       "      <td>0.000000e+00</td>\n",
       "      <td>-1.746285e+00</td>\n",
       "      <td>-3.202494e+00</td>\n",
       "      <td>-4.159270e+00</td>\n",
       "      <td>-5.273409e+00</td>\n",
       "      <td>-5.549069e+01</td>\n",
       "      <td>-3.032871e+01</td>\n",
       "      <td>-5.785880e+00</td>\n",
       "      <td>-5.682901e+01</td>\n",
       "      <td>-4.950679e+00</td>\n",
       "      <td>...</td>\n",
       "      <td>-7.024909e+00</td>\n",
       "      <td>-5.344403e+00</td>\n",
       "      <td>-4.883486e+00</td>\n",
       "      <td>-3.419819e+01</td>\n",
       "      <td>-4.080720e+00</td>\n",
       "      <td>-3.172026e+00</td>\n",
       "      <td>-8.215050e+00</td>\n",
       "      <td>-7.097649e+00</td>\n",
       "      <td>-2.810803e+00</td>\n",
       "      <td>0.000000e+00</td>\n",
       "    </tr>\n",
       "    <tr>\n",
       "      <th>25%</th>\n",
       "      <td>1.030000e+02</td>\n",
       "      <td>-8.933974e-01</td>\n",
       "      <td>-9.256586e-01</td>\n",
       "      <td>-1.132848e+00</td>\n",
       "      <td>-7.499238e-01</td>\n",
       "      <td>-1.091044e+00</td>\n",
       "      <td>-6.292713e-01</td>\n",
       "      <td>-1.509645e+00</td>\n",
       "      <td>-7.826904e-01</td>\n",
       "      <td>-8.103882e-01</td>\n",
       "      <td>...</td>\n",
       "      <td>-1.351376e+00</td>\n",
       "      <td>-1.173441e+00</td>\n",
       "      <td>-1.092604e+00</td>\n",
       "      <td>-1.229536e+00</td>\n",
       "      <td>-9.741961e-01</td>\n",
       "      <td>-1.258164e+00</td>\n",
       "      <td>-1.546594e+00</td>\n",
       "      <td>-1.312486e+00</td>\n",
       "      <td>-1.070996e+00</td>\n",
       "      <td>1.711709e-01</td>\n",
       "    </tr>\n",
       "    <tr>\n",
       "      <th>50%</th>\n",
       "      <td>2.530000e+02</td>\n",
       "      <td>-5.505853e-02</td>\n",
       "      <td>6.384654e-03</td>\n",
       "      <td>-7.722104e-02</td>\n",
       "      <td>2.890715e-02</td>\n",
       "      <td>-2.359242e-02</td>\n",
       "      <td>1.539982e-03</td>\n",
       "      <td>-8.178716e-02</td>\n",
       "      <td>-1.854513e-02</td>\n",
       "      <td>-5.171744e-02</td>\n",
       "      <td>...</td>\n",
       "      <td>-7.120204e-02</td>\n",
       "      <td>-3.517699e-02</td>\n",
       "      <td>-7.306343e-02</td>\n",
       "      <td>1.014370e-02</td>\n",
       "      <td>-7.475740e-02</td>\n",
       "      <td>2.587801e-02</td>\n",
       "      <td>-9.408076e-02</td>\n",
       "      <td>8.871442e-02</td>\n",
       "      <td>3.912943e-02</td>\n",
       "      <td>7.444823e-01</td>\n",
       "    </tr>\n",
       "    <tr>\n",
       "      <th>75%</th>\n",
       "      <td>3.820000e+02</td>\n",
       "      <td>9.580755e-01</td>\n",
       "      <td>1.154869e+00</td>\n",
       "      <td>1.199051e+00</td>\n",
       "      <td>1.024069e+00</td>\n",
       "      <td>1.199377e+00</td>\n",
       "      <td>7.525565e-01</td>\n",
       "      <td>1.359763e+00</td>\n",
       "      <td>9.258294e-01</td>\n",
       "      <td>1.124165e+00</td>\n",
       "      <td>...</td>\n",
       "      <td>1.473971e+00</td>\n",
       "      <td>1.387558e+00</td>\n",
       "      <td>1.225302e+00</td>\n",
       "      <td>1.491688e+00</td>\n",
       "      <td>1.114537e+00</td>\n",
       "      <td>1.591639e+00</td>\n",
       "      <td>1.627972e+00</td>\n",
       "      <td>1.820562e+00</td>\n",
       "      <td>1.469226e+00</td>\n",
       "      <td>2.543256e+00</td>\n",
       "    </tr>\n",
       "    <tr>\n",
       "      <th>max</th>\n",
       "      <td>4.990000e+02</td>\n",
       "      <td>1.128524e+02</td>\n",
       "      <td>1.784405e+02</td>\n",
       "      <td>9.653914e+01</td>\n",
       "      <td>1.979183e+02</td>\n",
       "      <td>6.200528e+01</td>\n",
       "      <td>3.965424e+01</td>\n",
       "      <td>6.629657e+00</td>\n",
       "      <td>5.470133e+01</td>\n",
       "      <td>2.584472e+01</td>\n",
       "      <td>...</td>\n",
       "      <td>5.119038e+01</td>\n",
       "      <td>4.731695e+01</td>\n",
       "      <td>5.280387e+01</td>\n",
       "      <td>4.146828e+01</td>\n",
       "      <td>5.988318e+01</td>\n",
       "      <td>7.442989e+01</td>\n",
       "      <td>5.872849e+01</td>\n",
       "      <td>2.342762e+01</td>\n",
       "      <td>5.232830e+01</td>\n",
       "      <td>1.670472e+02</td>\n",
       "    </tr>\n",
       "  </tbody>\n",
       "</table>\n",
       "<p>8 rows × 26 columns</p>\n",
       "</div>"
      ],
      "text/plain": [
       "               date    feature_93   feature_118   feature_117    feature_51  \\\n",
       "count  1.993372e+06  1.993372e+06  1.993372e+06  1.993372e+06  1.993372e+06   \n",
       "mean   2.473574e+02  3.246773e-01  3.849311e-01  3.022950e-01  4.928623e-01   \n",
       "std    1.528486e+02  2.152026e+00  2.366299e+00  2.433219e+00  2.817234e+00   \n",
       "min    0.000000e+00 -1.746285e+00 -3.202494e+00 -4.159270e+00 -5.273409e+00   \n",
       "25%    1.030000e+02 -8.933974e-01 -9.256586e-01 -1.132848e+00 -7.499238e-01   \n",
       "50%    2.530000e+02 -5.505853e-02  6.384654e-03 -7.722104e-02  2.890715e-02   \n",
       "75%    3.820000e+02  9.580755e-01  1.154869e+00  1.199051e+00  1.024069e+00   \n",
       "max    4.990000e+02  1.128524e+02  1.784405e+02  9.653914e+01  1.979183e+02   \n",
       "\n",
       "         feature_16    feature_11    feature_52    feature_10    feature_41  \\\n",
       "count  1.993372e+06  1.993372e+06  1.993372e+06  1.993372e+06  1.993372e+06   \n",
       "mean   1.374475e-01  9.732797e-02  4.894156e-03  1.723723e-01  3.897169e-01   \n",
       "std    2.137285e+00  1.548966e+00  1.875148e+00  1.646480e+00  1.979227e+00   \n",
       "min   -5.549069e+01 -3.032871e+01 -5.785880e+00 -5.682901e+01 -4.950679e+00   \n",
       "25%   -1.091044e+00 -6.292713e-01 -1.509645e+00 -7.826904e-01 -8.103882e-01   \n",
       "50%   -2.359242e-02  1.539982e-03 -8.178716e-02 -1.854513e-02 -5.171744e-02   \n",
       "75%    1.199377e+00  7.525565e-01  1.359763e+00  9.258294e-01  1.124165e+00   \n",
       "max    6.200528e+01  3.965424e+01  6.629657e+00  5.470133e+01  2.584472e+01   \n",
       "\n",
       "       ...   feature_128    feature_53   feature_120     feature_9  \\\n",
       "count  ...  1.993372e+06  1.993372e+06  1.993372e+06  1.993372e+06   \n",
       "mean   ...  2.465135e-01  3.109241e-01  2.242823e-01  2.699504e-01   \n",
       "std    ...  2.267801e+00  2.138367e+00  1.810286e+00  2.328695e+00   \n",
       "min    ... -7.024909e+00 -5.344403e+00 -4.883486e+00 -3.419819e+01   \n",
       "25%    ... -1.351376e+00 -1.173441e+00 -1.092604e+00 -1.229536e+00   \n",
       "50%    ... -7.120204e-02 -3.517699e-02 -7.306343e-02  1.014370e-02   \n",
       "75%    ...  1.473971e+00  1.387558e+00  1.225302e+00  1.491688e+00   \n",
       "max    ...  5.119038e+01  4.731695e+01  5.280387e+01  4.146828e+01   \n",
       "\n",
       "        feature_124     feature_1   feature_126    feature_42    feature_69  \\\n",
       "count  1.993372e+06  1.993372e+06  1.993372e+06  1.993372e+06  1.993372e+06   \n",
       "mean   2.339804e-01  4.166007e-01  2.136651e-01  4.397250e-01  4.100866e-01   \n",
       "std    1.670982e+00  2.532780e+00  2.481993e+00  2.416368e+00  2.264925e+00   \n",
       "min   -4.080720e+00 -3.172026e+00 -8.215050e+00 -7.097649e+00 -2.810803e+00   \n",
       "25%   -9.741961e-01 -1.258164e+00 -1.546594e+00 -1.312486e+00 -1.070996e+00   \n",
       "50%   -7.475740e-02  2.587801e-02 -9.408076e-02  8.871442e-02  3.912943e-02   \n",
       "75%    1.114537e+00  1.591639e+00  1.627972e+00  1.820562e+00  1.469226e+00   \n",
       "max    5.988318e+01  7.442989e+01  5.872849e+01  2.342762e+01  5.232830e+01   \n",
       "\n",
       "             weight  \n",
       "count  1.993372e+06  \n",
       "mean   3.090708e+00  \n",
       "std    7.721570e+00  \n",
       "min    0.000000e+00  \n",
       "25%    1.711709e-01  \n",
       "50%    7.444823e-01  \n",
       "75%    2.543256e+00  \n",
       "max    1.670472e+02  \n",
       "\n",
       "[8 rows x 26 columns]"
      ]
     },
     "execution_count": 5,
     "metadata": {},
     "output_type": "execute_result"
    }
   ],
   "source": [
    "data.describe()"
   ]
  },
  {
   "cell_type": "markdown",
   "metadata": {},
   "source": [
    "# predictor and variable"
   ]
  },
  {
   "cell_type": "code",
   "execution_count": 6,
   "metadata": {},
   "outputs": [],
   "source": [
    "X = data.drop('action', axis=1)"
   ]
  },
  {
   "cell_type": "code",
   "execution_count": 7,
   "metadata": {},
   "outputs": [
    {
     "data": {
      "text/html": [
       "<div>\n",
       "<style scoped>\n",
       "    .dataframe tbody tr th:only-of-type {\n",
       "        vertical-align: middle;\n",
       "    }\n",
       "\n",
       "    .dataframe tbody tr th {\n",
       "        vertical-align: top;\n",
       "    }\n",
       "\n",
       "    .dataframe thead th {\n",
       "        text-align: right;\n",
       "    }\n",
       "</style>\n",
       "<table border=\"1\" class=\"dataframe\">\n",
       "  <thead>\n",
       "    <tr style=\"text-align: right;\">\n",
       "      <th></th>\n",
       "      <th>date</th>\n",
       "      <th>feature_93</th>\n",
       "      <th>feature_118</th>\n",
       "      <th>feature_117</th>\n",
       "      <th>feature_51</th>\n",
       "      <th>feature_16</th>\n",
       "      <th>feature_11</th>\n",
       "      <th>feature_52</th>\n",
       "      <th>feature_10</th>\n",
       "      <th>feature_41</th>\n",
       "      <th>...</th>\n",
       "      <th>feature_128</th>\n",
       "      <th>feature_53</th>\n",
       "      <th>feature_120</th>\n",
       "      <th>feature_9</th>\n",
       "      <th>feature_124</th>\n",
       "      <th>feature_1</th>\n",
       "      <th>feature_126</th>\n",
       "      <th>feature_42</th>\n",
       "      <th>feature_69</th>\n",
       "      <th>weight</th>\n",
       "    </tr>\n",
       "  </thead>\n",
       "  <tbody>\n",
       "    <tr>\n",
       "      <th>0</th>\n",
       "      <td>0</td>\n",
       "      <td>0.268165</td>\n",
       "      <td>-1.812644</td>\n",
       "      <td>0.285151</td>\n",
       "      <td>0.400071</td>\n",
       "      <td>-1.045913</td>\n",
       "      <td>-0.710505</td>\n",
       "      <td>1.732091</td>\n",
       "      <td>-0.815505</td>\n",
       "      <td>0.238448</td>\n",
       "      <td>...</td>\n",
       "      <td>1.023031</td>\n",
       "      <td>0.662062</td>\n",
       "      <td>1.635075</td>\n",
       "      <td>0.455843</td>\n",
       "      <td>1.610215</td>\n",
       "      <td>0.086238</td>\n",
       "      <td>2.236798</td>\n",
       "      <td>1.706032</td>\n",
       "      <td>1.766712</td>\n",
       "      <td>1.887768</td>\n",
       "    </tr>\n",
       "    <tr>\n",
       "      <th>1</th>\n",
       "      <td>0</td>\n",
       "      <td>-0.006777</td>\n",
       "      <td>-0.672916</td>\n",
       "      <td>-1.281847</td>\n",
       "      <td>-0.172306</td>\n",
       "      <td>1.070328</td>\n",
       "      <td>2.015274</td>\n",
       "      <td>1.820407</td>\n",
       "      <td>0.915851</td>\n",
       "      <td>-2.049727</td>\n",
       "      <td>...</td>\n",
       "      <td>3.322019</td>\n",
       "      <td>3.211434</td>\n",
       "      <td>4.213683</td>\n",
       "      <td>2.721408</td>\n",
       "      <td>3.513960</td>\n",
       "      <td>2.540471</td>\n",
       "      <td>3.726736</td>\n",
       "      <td>3.328481</td>\n",
       "      <td>2.264585</td>\n",
       "      <td>0.993648</td>\n",
       "    </tr>\n",
       "    <tr>\n",
       "      <th>2</th>\n",
       "      <td>0</td>\n",
       "      <td>-0.641936</td>\n",
       "      <td>0.928793</td>\n",
       "      <td>0.463747</td>\n",
       "      <td>2.304336</td>\n",
       "      <td>-1.289940</td>\n",
       "      <td>-0.853292</td>\n",
       "      <td>4.387984</td>\n",
       "      <td>-1.783306</td>\n",
       "      <td>0.870839</td>\n",
       "      <td>...</td>\n",
       "      <td>-0.734133</td>\n",
       "      <td>-1.225501</td>\n",
       "      <td>-0.325481</td>\n",
       "      <td>-2.764325</td>\n",
       "      <td>-0.388679</td>\n",
       "      <td>-1.501931</td>\n",
       "      <td>-0.716593</td>\n",
       "      <td>-1.256370</td>\n",
       "      <td>-1.909002</td>\n",
       "      <td>0.000000</td>\n",
       "    </tr>\n",
       "  </tbody>\n",
       "</table>\n",
       "<p>3 rows × 26 columns</p>\n",
       "</div>"
      ],
      "text/plain": [
       "   date  feature_93  feature_118  feature_117  feature_51  feature_16  \\\n",
       "0     0    0.268165    -1.812644     0.285151    0.400071   -1.045913   \n",
       "1     0   -0.006777    -0.672916    -1.281847   -0.172306    1.070328   \n",
       "2     0   -0.641936     0.928793     0.463747    2.304336   -1.289940   \n",
       "\n",
       "   feature_11  feature_52  feature_10  feature_41  ...  feature_128  \\\n",
       "0   -0.710505    1.732091   -0.815505    0.238448  ...     1.023031   \n",
       "1    2.015274    1.820407    0.915851   -2.049727  ...     3.322019   \n",
       "2   -0.853292    4.387984   -1.783306    0.870839  ...    -0.734133   \n",
       "\n",
       "   feature_53  feature_120  feature_9  feature_124  feature_1  feature_126  \\\n",
       "0    0.662062     1.635075   0.455843     1.610215   0.086238     2.236798   \n",
       "1    3.211434     4.213683   2.721408     3.513960   2.540471     3.726736   \n",
       "2   -1.225501    -0.325481  -2.764325    -0.388679  -1.501931    -0.716593   \n",
       "\n",
       "   feature_42  feature_69    weight  \n",
       "0    1.706032    1.766712  1.887768  \n",
       "1    3.328481    2.264585  0.993648  \n",
       "2   -1.256370   -1.909002  0.000000  \n",
       "\n",
       "[3 rows x 26 columns]"
      ]
     },
     "execution_count": 7,
     "metadata": {},
     "output_type": "execute_result"
    }
   ],
   "source": [
    "X.head(3)"
   ]
  },
  {
   "cell_type": "code",
   "execution_count": 8,
   "metadata": {},
   "outputs": [],
   "source": [
    "y = data['action']"
   ]
  },
  {
   "cell_type": "code",
   "execution_count": 9,
   "metadata": {},
   "outputs": [
    {
     "data": {
      "text/plain": [
       "0     True\n",
       "1     True\n",
       "2    False\n",
       "Name: action, dtype: bool"
      ]
     },
     "execution_count": 9,
     "metadata": {},
     "output_type": "execute_result"
    }
   ],
   "source": [
    "y[:3]"
   ]
  },
  {
   "cell_type": "markdown",
   "metadata": {},
   "source": [
    "# Splitting data"
   ]
  },
  {
   "cell_type": "code",
   "execution_count": 10,
   "metadata": {},
   "outputs": [
    {
     "name": "stdout",
     "output_type": "stream",
     "text": [
      "Train set: (1495029, 26) (1495029,)\n",
      "Test set: (498343, 26) (498343,)\n"
     ]
    }
   ],
   "source": [
    "from sklearn.model_selection import train_test_split\n",
    "X_train, X_test, y_train, y_test = train_test_split(X, y, test_size = 0.25, random_state = 0)\n",
    "print ('Train set:', X_train.shape,  y_train.shape)\n",
    "print ('Test set:', X_test.shape,  y_test.shape)"
   ]
  },
  {
   "cell_type": "markdown",
   "metadata": {},
   "source": [
    "# Scaling "
   ]
  },
  {
   "cell_type": "code",
   "execution_count": 11,
   "metadata": {},
   "outputs": [],
   "source": [
    "from sklearn.preprocessing import StandardScaler\n",
    "sc = StandardScaler()\n",
    "X_train = sc.fit_transform(X_train)\n",
    "X_test = sc.transform(X_test)"
   ]
  },
  {
   "cell_type": "markdown",
   "metadata": {},
   "source": [
    "# Fake model"
   ]
  },
  {
   "cell_type": "code",
   "execution_count": 12,
   "metadata": {},
   "outputs": [],
   "source": [
    "from modules.pipeline import *"
   ]
  },
  {
   "cell_type": "code",
   "execution_count": 13,
   "metadata": {},
   "outputs": [],
   "source": [
    "model = Fake_model()"
   ]
  },
  {
   "cell_type": "code",
   "execution_count": 14,
   "metadata": {},
   "outputs": [
    {
     "name": "stdout",
     "output_type": "stream",
     "text": [
      "Fake_model()\n"
     ]
    }
   ],
   "source": [
    "model.fit(X_train, y_train)"
   ]
  },
  {
   "cell_type": "code",
   "execution_count": 15,
   "metadata": {},
   "outputs": [],
   "source": [
    "y_pred = model.predict(X_test)"
   ]
  },
  {
   "cell_type": "code",
   "execution_count": 16,
   "metadata": {},
   "outputs": [
    {
     "data": {
      "text/plain": [
       "array([1, 1, 0, ..., 0, 0, 0])"
      ]
     },
     "execution_count": 16,
     "metadata": {},
     "output_type": "execute_result"
    }
   ],
   "source": [
    "y_pred"
   ]
  },
  {
   "cell_type": "markdown",
   "metadata": {},
   "source": [
    "# Evaluate the model"
   ]
  },
  {
   "cell_type": "code",
   "execution_count": 17,
   "metadata": {},
   "outputs": [
    {
     "name": "stdout",
     "output_type": "stream",
     "text": [
      "Accuracy (proportion of correct predictions) is 0.5\n",
      "Precision (proportion of true trades among trading predictions) is 0.42\n",
      "Recall (proportion of true trades that are correctly predicted) is 0.5\n"
     ]
    }
   ],
   "source": [
    "from sklearn.metrics import accuracy_score, precision_score, recall_score\n",
    "print('Accuracy (proportion of correct predictions) is ' + str(round(accuracy_score(y_test, y_pred),2)))\n",
    "print('Precision (proportion of true trades among trading predictions) is ' + str(round(precision_score(y_test, y_pred),2)))\n",
    "print('Recall (proportion of true trades that are correctly predicted) is ' + str(round(recall_score(y_test, y_pred),2)))"
   ]
  },
  {
   "cell_type": "markdown",
   "metadata": {},
   "source": [
    "# Save the model locally"
   ]
  },
  {
   "cell_type": "code",
   "execution_count": 18,
   "metadata": {},
   "outputs": [
    {
     "data": {
      "text/plain": [
       "['..\\\\models\\\\Fake_model_joblib.']"
      ]
     },
     "execution_count": 18,
     "metadata": {},
     "output_type": "execute_result"
    }
   ],
   "source": [
    "import joblib\n",
    "\n",
    "model_filepath = MODELS_DIR / 'Fake_model_joblib.sav' \n",
    "joblib.dump(model, model_filepath)"
   ]
  },
  {
   "cell_type": "markdown",
   "metadata": {},
   "source": [
    "# Train LSTM and EVALUATE"
   ]
  },
  {
   "cell_type": "code",
   "execution_count": 19,
   "metadata": {},
   "outputs": [
    {
     "name": "stdout",
     "output_type": "stream",
     "text": [
      "Requirement already satisfied: tensorflow_addons in c:\\users\\vivie\\.conda\\envs\\actionlearning\\lib\\site-packages (0.12.1)\n",
      "Requirement already satisfied: typeguard>=2.7 in c:\\users\\vivie\\.conda\\envs\\actionlearning\\lib\\site-packages (from tensorflow_addons) (2.11.1)\n",
      "Note: you may need to restart the kernel to use updated packages.\n"
     ]
    }
   ],
   "source": [
    "pip install tensorflow_addons"
   ]
  },
  {
   "cell_type": "code",
   "execution_count": 20,
   "metadata": {},
   "outputs": [],
   "source": [
    "import keras\n",
    "from keras.models import Sequential\n",
    "from keras.layers import InputLayer\n",
    "from keras.layers import Dense\n",
    "from keras.layers import Dropout\n",
    "from keras.layers import LSTM, Embedding, Input\n",
    "from keras.constraints import maxnorm\n",
    "import tensorflow as tf\n",
    "import tensorflow_addons as tfa\n"
   ]
  },
  {
   "cell_type": "code",
   "execution_count": 21,
   "metadata": {},
   "outputs": [],
   "source": [
    "X_train = X\n",
    "y_train = y"
   ]
  },
  {
   "cell_type": "code",
   "execution_count": 22,
   "metadata": {},
   "outputs": [],
   "source": [
    "number_samples = X_train.shape[0]\n",
    "timesteps = X_train.shape[1] \n",
    "num_classes = 2"
   ]
  },
  {
   "cell_type": "code",
   "execution_count": 23,
   "metadata": {},
   "outputs": [],
   "source": [
    "# reshape from [samples, timesteps] into [samples, timesteps, features]\n",
    "X_train= np.array(X_train).reshape((number_samples, timesteps, 1))"
   ]
  },
  {
   "cell_type": "code",
   "execution_count": 24,
   "metadata": {},
   "outputs": [
    {
     "data": {
      "text/plain": [
       "((1993372, 26, 1), (1993372,))"
      ]
     },
     "execution_count": 24,
     "metadata": {},
     "output_type": "execute_result"
    }
   ],
   "source": [
    "X_train.shape, y_train.shape"
   ]
  },
  {
   "cell_type": "code",
   "execution_count": 25,
   "metadata": {},
   "outputs": [
    {
     "name": "stdout",
     "output_type": "stream",
     "text": [
      "WARNING:tensorflow:Layer lstm will not use cuDNN kernel since it doesn't meet the cuDNN kernel criteria. It will use generic GPU kernel as fallback when running on GPU\n"
     ]
    }
   ],
   "source": [
    "model = Sequential()\n",
    "model.add(LSTM(units = 50, activation='relu', return_sequences = True, input_shape = (timesteps, 1)))\n",
    "model.add(Dense(256, activation = 'relu'))\n",
    "model.add(Dropout(rate=0.2))\n",
    "model.add(Dense(8, activation='relu', kernel_constraint=maxnorm(3)))\n",
    "model.add(Dropout(rate=0.2))\n",
    "model.add(Dense(1, activation='sigmoid'))"
   ]
  },
  {
   "cell_type": "code",
   "execution_count": 27,
   "metadata": {},
   "outputs": [
    {
     "name": "stdout",
     "output_type": "stream",
     "text": [
      "Model: \"sequential\"\n",
      "_________________________________________________________________\n",
      "Layer (type)                 Output Shape              Param #   \n",
      "=================================================================\n",
      "lstm (LSTM)                  (None, 26, 50)            10400     \n",
      "_________________________________________________________________\n",
      "dense (Dense)                (None, 26, 256)           13056     \n",
      "_________________________________________________________________\n",
      "dropout (Dropout)            (None, 26, 256)           0         \n",
      "_________________________________________________________________\n",
      "dense_1 (Dense)              (None, 26, 8)             2056      \n",
      "_________________________________________________________________\n",
      "dropout_1 (Dropout)          (None, 26, 8)             0         \n",
      "_________________________________________________________________\n",
      "dense_2 (Dense)              (None, 26, 1)             9         \n",
      "=================================================================\n",
      "Total params: 25,521\n",
      "Trainable params: 25,521\n",
      "Non-trainable params: 0\n",
      "_________________________________________________________________\n"
     ]
    }
   ],
   "source": [
    "model.summary()"
   ]
  },
  {
   "cell_type": "markdown",
   "metadata": {},
   "source": [
    "# Compile and set up the Evaluation metrics"
   ]
  },
  {
   "cell_type": "code",
   "execution_count": 26,
   "metadata": {},
   "outputs": [],
   "source": [
    "model.compile(optimizer='adam', loss='mse', metrics = ['acc', )"
   ]
  },
  {
   "cell_type": "markdown",
   "metadata": {},
   "source": [
    "# Train the model"
   ]
  },
  {
   "cell_type": "code",
   "execution_count": 28,
   "metadata": {},
   "outputs": [
    {
     "name": "stdout",
     "output_type": "stream",
     "text": [
      "Epoch 1/5\n",
      "62293/62293 [==============================] - 2668s 43ms/step - loss: 0.2391 - acc: 0.5815\n",
      "Epoch 2/5\n",
      "62293/62293 [==============================] - 2654s 43ms/step - loss: 0.2359 - acc: 0.5855\n",
      "Epoch 3/5\n",
      "62293/62293 [==============================] - 2654s 43ms/step - loss: 0.2355 - acc: 0.5859\n",
      "Epoch 4/5\n",
      "62293/62293 [==============================] - 2646s 42ms/step - loss: 0.2350 - acc: 0.5871\n",
      "Epoch 5/5\n",
      "62293/62293 [==============================] - 2642s 42ms/step - loss: 0.2347 - acc: 0.5876\n"
     ]
    }
   ],
   "source": [
    "history = model.fit(X_train, y_train, epochs = 5, verbose = 1)            "
   ]
  },
  {
   "cell_type": "markdown",
   "metadata": {},
   "source": [
    "# Save keras model"
   ]
  },
  {
   "cell_type": "code",
   "execution_count": 32,
   "metadata": {},
   "outputs": [
    {
     "name": "stdout",
     "output_type": "stream",
     "text": [
      "INFO:tensorflow:Assets written to: ..\\models\\LSTM_model\\assets\n"
     ]
    }
   ],
   "source": [
    "model.save(MODELS_DIR/\"LSTM_model\")"
   ]
  },
  {
   "cell_type": "code",
   "execution_count": null,
   "metadata": {},
   "outputs": [],
   "source": []
  }
 ],
 "metadata": {
  "kernelspec": {
   "display_name": "Python 3",
   "language": "python",
   "name": "python3"
  },
  "language_info": {
   "codemirror_mode": {
    "name": "ipython",
    "version": 3
   },
   "file_extension": ".py",
   "mimetype": "text/x-python",
   "name": "python",
   "nbconvert_exporter": "python",
   "pygments_lexer": "ipython3",
   "version": "3.6.12"
  }
 },
 "nbformat": 4,
 "nbformat_minor": 4
}
